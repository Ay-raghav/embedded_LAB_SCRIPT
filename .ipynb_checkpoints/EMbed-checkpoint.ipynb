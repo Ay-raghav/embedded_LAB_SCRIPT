{
 "cells": [
  {
   "cell_type": "code",
   "execution_count": 7,
   "id": "562bb111-8cd9-454c-bf9d-89cbcd3e3238",
   "metadata": {},
   "outputs": [],
   "source": [
    "import scipy.signal as sig\n",
    "import numpy as np\n",
    "import matplotlib.pyplot as plt\n",
    "%matplotlib inline"
   ]
  },
  {
   "cell_type": "code",
   "execution_count": 15,
   "id": "02aeee2b-36f4-429a-8de5-10faf76e463e",
   "metadata": {},
   "outputs": [],
   "source": [
    "WINDOW = ('boxcar','triang','blackman','hamming','hann','bartlett','flattop','parzen','bohman','backmanharris','nuttall','barthann','cosine','exponential','tukey','taylor','kaiser','gaussian' ,'eneral_cosine','general_gaussian' ,'general_hamming' ,'dpss','chebwin')\n",
    "LENGTH = 101 \n",
    "FS = 2000\n",
    "FC = 300\n",
    "CUTOFF = FC/FS\n",
    "idx = 0\n",
    "PASS_ZERO = False\n",
    "Im = np.zeros(LENGTH)\n",
    "Im[0]=1"
   ]
  },
  {
   "cell_type": "code",
   "execution_count": 23,
   "id": "c8213b4e-01dd-481e-af5c-fb9dd5fea9db",
   "metadata": {},
   "outputs": [],
   "source": [
    "Hn = sig.firwin(LENGTH,CUTOFF,window = WINDOW[idx],pass_zero = PASS_ZERO,fs = FS)"
   ]
  },
  {
   "cell_type": "code",
   "execution_count": 19,
   "id": "5f66e719-57f2-4fdf-b834-f442e10e4331",
   "metadata": {},
   "outputs": [],
   "source": [
    "X = sig.convolve(Im,Hn)"
   ]
  },
  {
   "cell_type": "code",
   "execution_count": 24,
   "id": "0d72d139-f6d3-4a9d-9c92-902140359aba",
   "metadata": {},
   "outputs": [
    {
     "data": {
      "text/plain": [
       "[<matplotlib.lines.Line2D at 0x12d33a36890>]"
      ]
     },
     "execution_count": 24,
     "metadata": {},
     "output_type": "execute_result"
    },
    {
     "data": {
      "image/png": "[encoded data removed]",
      "text/plain": [
       "<Figure size 432x288 with 1 Axes>"
      ]
     },
     "metadata": {
      "needs_background": "light"
     },
     "output_type": "display_data"
    }
   ],
   "source": [
    "plt.plot(Hn)"
   ]
  },
  {
   "cell_type": "code",
   "execution_count": null,
   "id": "109ef4bb-be86-4fdb-9e78-3f5b1e8b61c6",
   "metadata": {},
   "outputs": [],
   "source": []
  }
 ],
 "metadata": {
  "kernelspec": {
   "display_name": "Python 3 (ipykernel)",
   "language": "python",
   "name": "python3"
  },
  "language_info": {
   "codemirror_mode": {
    "name": "ipython",
    "version": 3
   },
   "file_extension": ".py",
   "mimetype": "text/x-python",
   "name": "python",
   "nbconvert_exporter": "python",
   "pygments_lexer": "ipython3",
   "version": "3.10.1"
  }
 },
 "nbformat": 4,
 "nbformat_minor": 5
}
